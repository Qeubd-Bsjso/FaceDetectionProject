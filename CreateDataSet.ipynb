{
 "cells": [
  {
   "cell_type": "code",
   "execution_count": 1,
   "metadata": {},
   "outputs": [],
   "source": [
    "import cv2"
   ]
  },
  {
   "cell_type": "code",
   "execution_count": 2,
   "metadata": {},
   "outputs": [],
   "source": [
    "face_detector = cv2.CascadeClassifier('haarcascade_frontalface_default.xml')"
   ]
  },
  {
   "cell_type": "code",
   "execution_count": 3,
   "metadata": {
    "scrolled": true
   },
   "outputs": [
    {
     "name": "stdout",
     "output_type": "stream",
     "text": [
      "142\n"
     ]
    }
   ],
   "source": [
    "# split modi faces into training and testing\n",
    "\n",
    "face_id = 1  \n",
    "\n",
    "count = 0\n",
    "\n",
    "while(True):\n",
    "    img = cv2.imread('rawImages/Five_Faces/modi/modi'+str(count)+'.jpg')\n",
    "    if(img is None):\n",
    "        print(count)\n",
    "        break\n",
    "    count += 1\n",
    "    if(count <= 100):\n",
    "        gray = cv2.cvtColor(img, cv2.COLOR_BGR2GRAY)\n",
    "        faces = face_detector.detectMultiScale(gray, 1.1, 5)\n",
    "        for (x,y,w,h) in faces:\n",
    "            cv2.rectangle(img, (x,y), (x+w,y+h), (255,0,0), 2)\n",
    "            cv2.imwrite(\"training/User.\" + str(face_id) + '.' + str(count) + \".jpg\", gray[y:y+h,x:x+w])\n",
    "    else:\n",
    "        cv2.imwrite(\"testing/User.\" + str(face_id) + '.' + str(count-100) + \".jpg\", img)\n"
   ]
  },
  {
   "cell_type": "code",
   "execution_count": 4,
   "metadata": {},
   "outputs": [
    {
     "name": "stdout",
     "output_type": "stream",
     "text": [
      "143\n"
     ]
    }
   ],
   "source": [
    "# split trump faces into training and testing\n",
    "\n",
    "face_id = 2\n",
    "\n",
    "count = 0\n",
    "\n",
    "while(True):\n",
    "    img = cv2.imread('rawImages/Five_Faces/trump/trump'+str(count)+'.jpg')\n",
    "    if(img is None):\n",
    "        print(count)\n",
    "        break\n",
    "    count += 1\n",
    "    if(count <= 100):\n",
    "        gray = cv2.cvtColor(img, cv2.COLOR_BGR2GRAY)\n",
    "        faces = face_detector.detectMultiScale(gray, 1.1, 5)\n",
    "        for (x,y,w,h) in faces:\n",
    "            cv2.rectangle(img, (x,y), (x+w,y+h), (255,0,0), 2)\n",
    "            cv2.imwrite(\"training/User.\" + str(face_id) + '.' + str(count) + \".jpg\", gray[y:y+h,x:x+w])\n",
    "    else:\n",
    "        cv2.imwrite(\"testing/User.\" + str(face_id) + '.' + str(count-100) + \".jpg\", img)\n"
   ]
  },
  {
   "cell_type": "code",
   "execution_count": 5,
   "metadata": {
    "scrolled": true
   },
   "outputs": [
    {
     "name": "stdout",
     "output_type": "stream",
     "text": [
      "137\n"
     ]
    }
   ],
   "source": [
    "# split gates faces into training and testing\n",
    "\n",
    "face_id = 3\n",
    "\n",
    "count = 0\n",
    "\n",
    "while(True):\n",
    "    img = cv2.imread('rawImages/Five_Faces/gates/gates'+str(count)+'.jpg')\n",
    "    if(img is None):\n",
    "        print(count)\n",
    "        break\n",
    "    count += 1\n",
    "    if(count <= 100):\n",
    "        gray = cv2.cvtColor(img, cv2.COLOR_BGR2GRAY)\n",
    "        faces = face_detector.detectMultiScale(gray, 1.1, 5)\n",
    "        for (x,y,w,h) in faces:\n",
    "            cv2.rectangle(img, (x,y), (x+w,y+h), (255,0,0), 2)\n",
    "            cv2.imwrite(\"training/User.\" + str(face_id) + '.' + str(count) + \".jpg\", gray[y:y+h,x:x+w])\n",
    "    else:\n",
    "        cv2.imwrite(\"testing/User.\" + str(face_id) + '.' + str(count-100) + \".jpg\", img)\n"
   ]
  },
  {
   "cell_type": "code",
   "execution_count": 6,
   "metadata": {
    "scrolled": false
   },
   "outputs": [
    {
     "name": "stdout",
     "output_type": "stream",
     "text": [
      "137\n"
     ]
    }
   ],
   "source": [
    "# split elon musk faces into training and testing\n",
    "\n",
    "face_id = 4\n",
    "\n",
    "count = 0\n",
    "\n",
    "while(True):\n",
    "    img = cv2.imread('rawImages/Five_Faces/musk/musk'+str(count)+'.jpg')\n",
    "    if(img is None):\n",
    "        print(count)\n",
    "        break\n",
    "    count += 1\n",
    "    if(count <= 100):\n",
    "        gray = cv2.cvtColor(img, cv2.COLOR_BGR2GRAY)\n",
    "        faces = face_detector.detectMultiScale(gray, 1.1, 5)\n",
    "        for (x,y,w,h) in faces:\n",
    "            cv2.rectangle(img, (x,y), (x+w,y+h), (255,0,0), 2)\n",
    "            cv2.imwrite(\"training/User.\" + str(face_id) + '.' + str(count) + \".jpg\", gray[y:y+h,x:x+w])\n",
    "    else:\n",
    "        cv2.imwrite(\"testing/User.\" + str(face_id) + '.' + str(count-100) + \".jpg\", img)"
   ]
  },
  {
   "cell_type": "code",
   "execution_count": 7,
   "metadata": {},
   "outputs": [
    {
     "name": "stdout",
     "output_type": "stream",
     "text": [
      "134\n"
     ]
    }
   ],
   "source": [
    "# split Jack Ma faces into training and testing\n",
    "\n",
    "face_id = 5\n",
    "\n",
    "count = 0\n",
    "\n",
    "while(True):\n",
    "    img = cv2.imread('rawImages/Five_Faces/jack/jack'+str(count)+'.jpg')\n",
    "    if(img is None):\n",
    "        print(count)\n",
    "        break\n",
    "    count += 1\n",
    "    if(count <= 100):\n",
    "        gray = cv2.cvtColor(img, cv2.COLOR_BGR2GRAY)\n",
    "        faces = face_detector.detectMultiScale(gray, 1.1, 5)\n",
    "        for (x,y,w,h) in faces:\n",
    "            cv2.rectangle(img, (x,y), (x+w,y+h), (255,0,0), 2)\n",
    "            cv2.imwrite(\"training/User.\" + str(face_id) + '.' + str(count) + \".jpg\", gray[y:y+h,x:x+w])\n",
    "    else:\n",
    "        cv2.imwrite(\"testing/User.\" + str(face_id) + '.' + str(count-100) + \".jpg\", img)"
   ]
  },
  {
   "cell_type": "markdown",
   "metadata": {},
   "source": [
    " \n"
   ]
  }
 ],
 "metadata": {
  "kernelspec": {
   "display_name": "Python 3",
   "language": "python",
   "name": "python3"
  },
  "language_info": {
   "codemirror_mode": {
    "name": "ipython",
    "version": 3
   },
   "file_extension": ".py",
   "mimetype": "text/x-python",
   "name": "python",
   "nbconvert_exporter": "python",
   "pygments_lexer": "ipython3",
   "version": "3.8.5"
  }
 },
 "nbformat": 4,
 "nbformat_minor": 4
}
